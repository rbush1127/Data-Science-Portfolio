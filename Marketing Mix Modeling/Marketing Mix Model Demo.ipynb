{
 "cells": [
  {
   "cell_type": "markdown",
   "id": "384ba485",
   "metadata": {},
   "source": [
    "# Marketing Mix Model Demo"
   ]
  },
  {
   "cell_type": "markdown",
   "id": "1dfdbb02",
   "metadata": {},
   "source": [
    "This notebook contains a simple implementation of a Marketing Mix Model (MMM) which applies Ad-Stock, Diminishing Return, and Lag transformations to each input feature in the training dataset.\n",
    "\n",
    "To run the workbook, enter the following information in the **2) Parameters and Dataset** section of the notebook:\n",
    "\n",
    "- **Cell 12**: Desired folder- and file-name corresponding to the user's chosen dataset\n",
    "- **Cell 15**: Update the index-, feature-, and target-name lists\n",
    "- **Cell 17**: Appropriate range and value count figures in the transformation_parameters dictionary\n",
    "- **Cell 19**: Specify your chosen test_size fraction (a value between 0 and 1 representing the percent of records to be withheld for the test set)\n",
    "\n",
    "After that, select Run All Cells and view your estimated Marketing contributions!"
   ]
  },
  {
   "cell_type": "markdown",
   "id": "6d0ffa4c",
   "metadata": {},
   "source": [
    "#### 0) Packages"
   ]
  },
  {
   "cell_type": "code",
   "execution_count": 1,
   "id": "4abe7787",
   "metadata": {},
   "outputs": [],
   "source": [
    "import pandas as pd\n",
    "import numpy as np\n",
    "import matplotlib.pyplot as pl\n",
    "import seaborn as sns\n",
    "from scipy.ndimage.interpolation import shift\n",
    "import sklearn\n",
    "from sklearn.linear_model import LinearRegression\n",
    "from sklearn.metrics import mean_squared_error, mean_absolute_percentage_error, r2_score\n",
    "import statsmodels.api as sm\n",
    "import itertools\n",
    "import warnings"
   ]
  },
  {
   "cell_type": "markdown",
   "id": "ad44fa53",
   "metadata": {},
   "source": [
    "#### 1) Functions"
   ]
  },
  {
   "cell_type": "code",
   "execution_count": 2,
   "id": "26a34dac",
   "metadata": {},
   "outputs": [],
   "source": [
    "def plot_hist(df: pd.DataFrame(),\n",
    "              bins: int) -> None:\n",
    "    \"\"\"\n",
    "    The plot_hist() function takes a dataframe and plots histograms for each feature according to the number of bins specified \n",
    "    in input.\n",
    "    \"\"\"\n",
    "    feature_names = df.columns\n",
    "    for feature_name in feature_names:\n",
    "        print(feature_name)\n",
    "        feature_df[feature_name].plot.hist(bins=bins, figsize=(4,2))\n",
    "        pl.show()"
   ]
  },
  {
   "cell_type": "code",
   "execution_count": 3,
   "id": "f254a5d9",
   "metadata": {},
   "outputs": [],
   "source": [
    "def plot_corr_vals(df: pd.DataFrame()) -> None:\n",
    "    \"\"\"\n",
    "    The plot_corr_vals() function will create a correlation plot for the features in the input dataframe.\n",
    "    \"\"\"\n",
    "    f, ax = pl.subplots(figsize=(3,3))\n",
    "    corr = df.corr()\n",
    "    sns.heatmap(corr,\n",
    "                cmap=sns.light_palette(\"seagreen\", as_cmap=True))"
   ]
  },
  {
   "cell_type": "code",
   "execution_count": 4,
   "id": "1de0ca51",
   "metadata": {},
   "outputs": [],
   "source": [
    "def transform_activity_values(activity_values: list,\n",
    "                              transformation_type: str,\n",
    "                              transformation_parameters: list) -> np.array(0):\n",
    "    \"\"\"\n",
    "    The transform_activity_values() function takes a list of activity values and applies the transformation specified in input.\n",
    "    There are 3 types of transformations available:\n",
    "    \n",
    "    Ad-stock:\n",
    "        - Takes a decimal value between 0 and 1 which corresponds to the amount of residual activity which carries over into \n",
    "          subsequent time-steps.\n",
    "          \n",
    "    Diminishing Returns:\n",
    "        - Applies an exponential transformation of the form X^A, where A is the exponent parameter specified as an input to\n",
    "          the function.\n",
    "          \n",
    "    Time Lag:\n",
    "        - Returns the value stored in the record N time steps prior to the record being evaluated.  This value is an integer, \n",
    "          and will shift the array by the number of time units specified as an input.\n",
    "    \"\"\"\n",
    "    if transformation_type == 'adstock':\n",
    "        adstock = transformation_parameters[0]\n",
    "        transformed_activity_values = []\n",
    "        previous_transformed_activity_value = None\n",
    "        \n",
    "        for value in activity_values:\n",
    "            if len(transformed_activity_values) == 0:\n",
    "                # For the first iteration, the first transformed activity value will just be the first value.  Additionally, we\n",
    "                # assign the first value to be the previous_transformed_activity_value for the second step.\n",
    "                transformed_activity_values.append(value)\n",
    "                previous_transformed_activity_value = value\n",
    "                \n",
    "            else:\n",
    "                # Apply the ad-stock decay to the previous transformed activity value, and then add it to the current step's \n",
    "                # activity value.  Then store the transformed value for the subsequent time step.\n",
    "                transformed_actvity_value = value+(adstock*previous_transformed_activity_value)\n",
    "                transformed_activity_values.append(transformed_actvity_value)\n",
    "                previous_transformed_activity_value = transformed_actvity_value\n",
    "\n",
    "    elif transformation_type == 'dim_return':\n",
    "        exponent = transformation_parameters[0]\n",
    "        # Raise all values to the specified exponential power\n",
    "        transformed_activity_values = np.power(activity_values, exponent)\n",
    "\n",
    "    elif transformation_type == 'lag':\n",
    "        lag = transformation_parameters[0]\n",
    "        # Shift entire array by specified number of time-steps\n",
    "        transformed_activity_values = shift(activity_values, lag, cval=np.NaN)\n",
    "\n",
    "    else:\n",
    "        raise ValueError('Please use one of the accepted transformation types.')\n",
    "\n",
    "    return transformed_activity_values"
   ]
  },
  {
   "cell_type": "code",
   "execution_count": 5,
   "id": "a5ac28f8",
   "metadata": {},
   "outputs": [],
   "source": [
    "def append_transformed_activity_values(feature_df: pd.DataFrame(),\n",
    "                                       input_feature_name: str,\n",
    "                                       transformation_types: list,\n",
    "                                       transformation_parameters: tuple) -> pd.DataFrame():\n",
    "    \"\"\"\n",
    "    The append_trandformed_activity_values() function calls the transform_activity_values() function and transforms the \n",
    "    specified activity feature to the transformation types specified in input.  Then, it appends the transformed values\n",
    "    and names the column with the prefix 'transformed_'.\n",
    "    \n",
    "    The transformation types available are as follows:\n",
    "    \n",
    "    Ad-stock:\n",
    "        - Takes a decimal value between 0 and 1 which corresponds to the amount of residual activity which carries over into \n",
    "          subsequent time-steps.\n",
    "          \n",
    "    Diminishing Returns:\n",
    "        - Applies an exponential transformation of the form X^A, where A is the exponent parameter specified as an input to\n",
    "          the function.\n",
    "          \n",
    "    Time Lag:\n",
    "        - Returns the value stored in the record N time steps prior to the record being evaluated.  This value is an integer, \n",
    "          and will shift the array by the number of time units specified as an input.\n",
    "          \n",
    "    Parameters:\n",
    "        - feature_df: a pandas dataframe which contains activity values for the base activity features\n",
    "        - input_feature_name: the name of the feature from feature_df which is to be transformed\n",
    "        - transformation_types: a list of transformations to be applied to the feature.  For example, if a feature is to be\n",
    "            ad-stock and diminishing-return transformed, transformation_types = ['adstock','dim_return']\n",
    "        - transformation_parameters: a list of parameter values to be passed to the transform_activity_values() function.  The\n",
    "            first parameter always corresponds to Ad-stock, the second to Diminishing Returns, and the third to Lag.\n",
    "    \"\"\"\n",
    "    transformed_activity_values = feature_df[input_feature_name]\n",
    "    adstock_parameters = [transformation_parameters[0]]\n",
    "    dim_return_parameters = [transformation_parameters[1]]\n",
    "    lag_parameters = [transformation_parameters[2]]\n",
    "    \n",
    "    if 'adstock' in transformation_types:\n",
    "        transformed_activity_values = transform_activity_values(activity_values=transformed_activity_values,\n",
    "                                                                transformation_type='adstock',\n",
    "                                                                transformation_parameters=adstock_parameters)\n",
    "    if 'dim_return' in transformation_types:\n",
    "        transformed_activity_values = transform_activity_values(activity_values=transformed_activity_values,\n",
    "                                                                transformation_type='dim_return',\n",
    "                                                                transformation_parameters=dim_return_parameters)\n",
    "    if 'lag' in transformation_types:\n",
    "        transformed_activity_values = transform_activity_values(activity_values=transformed_activity_values,\n",
    "                                                                transformation_type='lag',\n",
    "                                                                transformation_parameters=lag_parameters)\n",
    "\n",
    "    transformed_feature_name = 'transformed_'+input_feature_name\n",
    "    transformed_feature_df = pd.DataFrame({transformed_feature_name:transformed_activity_values})\n",
    "    \n",
    "    return_df = pd.concat([feature_df, transformed_feature_df], axis=1)\n",
    "    return return_df"
   ]
  },
  {
   "cell_type": "code",
   "execution_count": 6,
   "id": "18039f11",
   "metadata": {},
   "outputs": [],
   "source": [
    "def generate_parameter_combinations(parameters: dict) -> list:\n",
    "    \"\"\"\n",
    "    The generate_parameter_combinations() function takes as input a dictionary where each key corrsponds to a transformation, \n",
    "    and each value corresponds to the range of parameter values to be tested for each transformation.  An example is provided \n",
    "    below for Ad-stock and DIminishing Return transformations where 3 values between 0.5 and 1 are tested:\n",
    "    \n",
    "    Ex:\n",
    "        - parameters = {'adstock':[0.50,0.75,1.00],\n",
    "                        'dim_return':[0.50,0.75,1.00]}\n",
    "    \"\"\"\n",
    "    transformations = parameters.keys()\n",
    "    parameter_value_lists = [parameters[transformation] for transformation in transformations]\n",
    "\n",
    "    parameter_combinations = list(itertools.product(*parameter_value_lists))\n",
    "    return parameter_combinations "
   ]
  },
  {
   "cell_type": "code",
   "execution_count": 7,
   "id": "b1d9ac5a",
   "metadata": {},
   "outputs": [],
   "source": [
    "def create_datasets(feature_df: pd.DataFrame(), \n",
    "                    target_df: pd.DataFrame(), \n",
    "                    test_size: float) -> pd.DataFrame():\n",
    "    \"\"\"\n",
    "    The create_datasets() function takes a feature- and target-dataframe as input, in addition to a decimal test-size fraction\n",
    "    between 0 and 1, and returns training and test feature and target datasets.\n",
    "    \"\"\"\n",
    "    train_test_split_index = round(feature_df.shape[0]*(1-test_size))\n",
    "    \n",
    "    X_train, X_test = feature_df.iloc[0:train_test_split_index], feature_df.iloc[train_test_split_index::]\n",
    "    y_train, y_test = target_df.iloc[0:train_test_split_index], target_df.iloc[train_test_split_index::]\n",
    "    \n",
    "    return X_train, X_test, y_train, y_test"
   ]
  },
  {
   "cell_type": "code",
   "execution_count": 8,
   "id": "504068a0",
   "metadata": {},
   "outputs": [],
   "source": [
    "def optimize_feature_parameters(input_feature_name: str,\n",
    "                                transformation_types: list,\n",
    "                                feature_parameter_combinations: list,\n",
    "                                feature_df: pd.DataFrame()) -> tuple:\n",
    "    \"\"\"\n",
    "    The optimize_feature_parameters() takes a list of transformation parameters and tests the specified feature for an \n",
    "    optimal configuration.  It iterates through each parameter combination, fits a model for each, and returns the combination\n",
    "    which produced the lowest root-mean-squared error (RMSE) (as well as the RMSE that was produced).\n",
    "    \"\"\"\n",
    "    feature_names = feature_df.columns\n",
    "    \n",
    "    # Initialize variables for best RMSE results\n",
    "    best_rmse = None\n",
    "    best_parameter_combination = None\n",
    "    \n",
    "    for parameter_combination in feature_parameter_combinations:\n",
    "        # Calculate the record number at which lag-transformed records will be non-null\n",
    "        lag_drop_index = parameter_combination[2]\n",
    "        \n",
    "        # Transform the dataframe according to the specified transformation list, and drop the non-transformed features to\n",
    "        # ensure that parameters are seletced only for the transformed features' effect on the target prediction\n",
    "        transformed_feature_df = append_transformed_activity_values(feature_df=feature_df,\n",
    "                                                                    input_feature_name=input_feature_name,\n",
    "                                                                    transformation_types=transformation_types,\n",
    "                                                                    transformation_parameters=parameter_combination)\n",
    "        transformed_feature_df.drop(columns=feature_names, inplace=True)\n",
    "        \n",
    "        # Create train/test splits and drop null lag-transformed records\n",
    "        X_train, X_test, y_train, y_test = create_datasets(feature_df=transformed_feature_df, \n",
    "                                                           target_df=target_df, \n",
    "                                                           test_size=test_size)\n",
    "        X_train, y_train = X_train.iloc[lag_drop_index::], y_train.iloc[lag_drop_index::]\n",
    "        \n",
    "        # Fit the model and calculate error metrics\n",
    "        lr = LinearRegression()\n",
    "        lr.fit(X_train, y_train)\n",
    "        y_pred = lr.predict(X_test)\n",
    "        rmse = np.sqrt(mean_squared_error(y_test, y_pred))\n",
    "        mape = mean_absolute_percentage_error(y_test, y_pred)\n",
    "        r2 = r2_score(y_test, y_pred)\n",
    "        \n",
    "        if best_rmse is None:\n",
    "            best_rmse = rmse\n",
    "            best_parameter_combination = parameter_combination\n",
    "        elif rmse < best_rmse:\n",
    "            best_rmse = rmse\n",
    "            best_parameter_combination = parameter_combination\n",
    "            \n",
    "    return (best_parameter_combination, best_rmse)"
   ]
  },
  {
   "cell_type": "code",
   "execution_count": 9,
   "id": "ac60512c",
   "metadata": {},
   "outputs": [],
   "source": [
    "def get_optimal_feature_parameters(input_feature_parameter_grid: dict,\n",
    "                                   feature_df: pd.DataFrame()) -> dict:\n",
    "    \"\"\"\n",
    "    The get_optimal_feature_parameters() function takes the user-generated input_feature_parameter_grid dictionary and feature\n",
    "    data frame as input, and returns optimal transformation parameters for each feature.  \n",
    "    \n",
    "    As an example, the input_feature_parameter_grid that corresponds to Ad-Stock and Lag transformations, with respective\n",
    "    parameter lists of [0.7,0.9] and [5,10], on only the 'tv' feature is structured as follows:\n",
    "    \n",
    "    input_feature_parameter_grid = {'tv':(['adstock','lag'], [(0.7,5),(0.7,10),(0.9,5),(0.9,10)])}\n",
    "    \"\"\"\n",
    "    # Initialize the return dictionary\n",
    "    optimized_parameter_dict = {}\n",
    "    \n",
    "    # Create a list of feature names to iterate through\n",
    "    input_feature_names = [input_feature_name for input_feature_name in input_feature_parameter_grid.keys()]\n",
    "    for input_feature_name in input_feature_names:\n",
    "        # Store transformation types and possible parameter configurations, and then identify optimal parameters\n",
    "        transformation_types = input_feature_parameter_grid[input_feature_name][0]\n",
    "        input_feature_parameter_combinations = input_feature_parameter_grid[input_feature_name][1]\n",
    "        input_feature_parameter_configuration = optimize_feature_parameters(input_feature_name=input_feature_name,\n",
    "                                                                            transformation_types=transformation_types,\n",
    "                                                                            feature_parameter_combinations=input_feature_parameter_combinations,\n",
    "                                                                            feature_df=feature_df,\n",
    "                                                                            )\n",
    "        \n",
    "        # Store optimal parameters in the return dictionary\n",
    "        optimized_parameter_dict[input_feature_name] = input_feature_parameter_configuration\n",
    "    \n",
    "    return optimized_parameter_dict"
   ]
  },
  {
   "cell_type": "code",
   "execution_count": 10,
   "id": "2f9ab41c",
   "metadata": {},
   "outputs": [],
   "source": [
    "def generate_optimized_training_dataset(feature_df: pd.DataFrame(),\n",
    "                                        target_df: pd.DataFrame(),\n",
    "                                        feature_names: list,\n",
    "                                        transformation_names: list,\n",
    "                                        optimal_feature_parameters: dict) -> pd.DataFrame():\n",
    "    \"\"\"\n",
    "    The generate_optimized_training_dataset() function will take the names of the features to be transformed, and their \n",
    "    corresponding optimal parameters, and returns transformed training/test dataset.\n",
    "    \"\"\"\n",
    "    # Create an adjusted optimal parameter dictionary which removes the RMSE associated with the feature's transformation\n",
    "    optimal_feature_parameters_adj = {}\n",
    "    for feature_name in feature_names:\n",
    "        optimal_feature_parameters_adj[feature_name] = optimal_feature_parameters[feature_name][0]\n",
    "        \n",
    "    first_feature = True\n",
    "    optimized_df = None\n",
    "    for feature_name in feature_names:\n",
    "        # If iterating through the first feature, make record of that and transform feature_df first\n",
    "        if first_feature:\n",
    "            first_feature = False\n",
    "            transformation_parameters = optimal_feature_parameters_adj[feature_name]\n",
    "            optimized_df = append_transformed_activity_values(feature_df=feature_df,\n",
    "                                                              input_feature_name=feature_name,\n",
    "                                                              transformation_types=transformation_names,\n",
    "                                                              transformation_parameters=transformation_parameters)\n",
    "        \n",
    "        # If it is not the first feature, continue to transform optimized_df\n",
    "        else:\n",
    "            transformation_parameters = optimal_feature_parameters_adj[feature_name]\n",
    "            optimized_df = append_transformed_activity_values(feature_df=optimized_df,\n",
    "                                                              input_feature_name=feature_name,\n",
    "                                                              transformation_types=transformation_names,\n",
    "                                                              transformation_parameters=transformation_parameters)\n",
    "            \n",
    "    # Initialize a null-value counter and iterate through each column to identify a maximum-null record\n",
    "    max_null_count = 0\n",
    "    for feature in optimized_df.columns:\n",
    "        null_count = optimized_df[feature].isna().sum()\n",
    "        if null_count > max_null_count:\n",
    "            max_null_count = null_count\n",
    "            \n",
    "    # Drop the non-transformed feature columns\n",
    "    optimized_df.drop(columns=feature_names, inplace=True)\n",
    "            \n",
    "    # Drop the number of records from the beginning of the dataframe corresponding to the maximum null count\n",
    "    optimized_feature_df, optimized_target_df = optimized_df.iloc[max_null_count::], target_df.iloc[max_null_count::]\n",
    "    \n",
    "    return optimized_feature_df, optimized_target_df"
   ]
  },
  {
   "cell_type": "code",
   "execution_count": 11,
   "id": "bfb953b5",
   "metadata": {},
   "outputs": [],
   "source": [
    "def fit_model(model: object,\n",
    "              X_train: pd.DataFrame(),\n",
    "              y_train: pd.DataFrame(),\n",
    "              X_test: pd.DataFrame(),\n",
    "              y_test: pd.DataFrame()) -> object:\n",
    "    \"\"\"\n",
    "    The fit_model() function will take the specified model object and train/test dataframes as input, fit the model passed to\n",
    "    it, and return the fit model as an output.  Additionally, it will print the associated test results.\n",
    "    \"\"\"\n",
    "    # Filter warnings for the statsmodels API\n",
    "    warnings.filterwarnings('ignore')\n",
    "    \n",
    "    target_name = y_train.columns[0]\n",
    "    # Fit the model passed in input\n",
    "    model.fit(X_train, y_train)\n",
    "    \n",
    "    # Calculate error metrics\n",
    "    y_pred = model.predict(X_test)\n",
    "    rmse = np.sqrt(mean_squared_error(y_test, y_pred))\n",
    "    mape = mean_absolute_percentage_error(y_test, y_pred)\n",
    "    r2 = r2_score(y_test, y_pred)\n",
    "    \n",
    "    # Create the results dataframe\n",
    "    y_pred = pd.DataFrame(y_pred, index=list(y_test.index)).rename(columns={0:target_name+'_pred'})\n",
    "    result_df = pd.concat([y_test, y_pred], axis=1)\n",
    "    \n",
    "    # Plot the results\n",
    "    result_df.plot()\n",
    "    pl.show()\n",
    "    \n",
    "    # Fit an OLS and report P-values for each feature\n",
    "    X_train_constant = sm.add_constant(X_train)\n",
    "    ols = sm.OLS(y_train, X_train_constant)\n",
    "    ols_fit = ols.fit()\n",
    "    print(ols_fit.summary())\n",
    "    \n",
    "    return model"
   ]
  },
  {
   "cell_type": "markdown",
   "id": "f1b4a247",
   "metadata": {},
   "source": [
    "#### 2) Parameters and Data Load"
   ]
  },
  {
   "cell_type": "code",
   "execution_count": 12,
   "id": "fbaf889a",
   "metadata": {},
   "outputs": [],
   "source": [
    "folder = 'C:\\\\Users\\\\rbush\\\\Documents\\\\MMM'\n",
    "filename = 'MMM Dataset 2.csv'"
   ]
  },
  {
   "cell_type": "code",
   "execution_count": 13,
   "id": "e7530a0c",
   "metadata": {},
   "outputs": [],
   "source": [
    "df = pd.read_csv(folder+'\\\\'+filename).dropna()"
   ]
  },
  {
   "cell_type": "code",
   "execution_count": 14,
   "id": "33ece70d",
   "metadata": {},
   "outputs": [
    {
     "data": {
      "text/html": [
       "<div>\n",
       "<style scoped>\n",
       "    .dataframe tbody tr th:only-of-type {\n",
       "        vertical-align: middle;\n",
       "    }\n",
       "\n",
       "    .dataframe tbody tr th {\n",
       "        vertical-align: top;\n",
       "    }\n",
       "\n",
       "    .dataframe thead th {\n",
       "        text-align: right;\n",
       "    }\n",
       "</style>\n",
       "<table border=\"1\" class=\"dataframe\">\n",
       "  <thead>\n",
       "    <tr style=\"text-align: right;\">\n",
       "      <th></th>\n",
       "      <th>Date</th>\n",
       "      <th>TV</th>\n",
       "      <th>Radio</th>\n",
       "      <th>Banners</th>\n",
       "      <th>Sales</th>\n",
       "    </tr>\n",
       "  </thead>\n",
       "  <tbody>\n",
       "    <tr>\n",
       "      <th>0</th>\n",
       "      <td>1/7/2018</td>\n",
       "      <td>13528.1</td>\n",
       "      <td>0.00</td>\n",
       "      <td>0.00</td>\n",
       "      <td>9779.80</td>\n",
       "    </tr>\n",
       "    <tr>\n",
       "      <th>1</th>\n",
       "      <td>1/14/2018</td>\n",
       "      <td>0.0</td>\n",
       "      <td>5349.65</td>\n",
       "      <td>2218.93</td>\n",
       "      <td>13245.19</td>\n",
       "    </tr>\n",
       "    <tr>\n",
       "      <th>2</th>\n",
       "      <td>1/21/2018</td>\n",
       "      <td>0.0</td>\n",
       "      <td>4235.86</td>\n",
       "      <td>2046.96</td>\n",
       "      <td>12022.66</td>\n",
       "    </tr>\n",
       "    <tr>\n",
       "      <th>3</th>\n",
       "      <td>1/28/2018</td>\n",
       "      <td>0.0</td>\n",
       "      <td>3562.21</td>\n",
       "      <td>0.00</td>\n",
       "      <td>8846.95</td>\n",
       "    </tr>\n",
       "    <tr>\n",
       "      <th>4</th>\n",
       "      <td>2/4/2018</td>\n",
       "      <td>0.0</td>\n",
       "      <td>0.00</td>\n",
       "      <td>2187.29</td>\n",
       "      <td>9797.07</td>\n",
       "    </tr>\n",
       "  </tbody>\n",
       "</table>\n",
       "</div>"
      ],
      "text/plain": [
       "        Date       TV    Radio  Banners     Sales\n",
       "0   1/7/2018  13528.1     0.00     0.00   9779.80\n",
       "1  1/14/2018      0.0  5349.65  2218.93  13245.19\n",
       "2  1/21/2018      0.0  4235.86  2046.96  12022.66\n",
       "3  1/28/2018      0.0  3562.21     0.00   8846.95\n",
       "4   2/4/2018      0.0     0.00  2187.29   9797.07"
      ]
     },
     "execution_count": 14,
     "metadata": {},
     "output_type": "execute_result"
    }
   ],
   "source": [
    "df.head()"
   ]
  },
  {
   "cell_type": "code",
   "execution_count": 15,
   "id": "541827e9",
   "metadata": {},
   "outputs": [],
   "source": [
    "index_names = ['Date']\n",
    "feature_names = ['TV','Radio','Banners']\n",
    "target_names = ['Sales']"
   ]
  },
  {
   "cell_type": "code",
   "execution_count": 16,
   "id": "855417ed",
   "metadata": {},
   "outputs": [],
   "source": [
    "index_df = df[index_names]\n",
    "feature_df = df[feature_names]\n",
    "target_df = df[target_names]"
   ]
  },
  {
   "cell_type": "code",
   "execution_count": 17,
   "id": "a23b5060",
   "metadata": {},
   "outputs": [],
   "source": [
    "adstock_parameter_range = np.linspace(0.1,0.9,9)\n",
    "dim_return_parameter_range = np.linspace(0.2,1,5)\n",
    "lag_parameter_range = np.linspace(0,20,6)"
   ]
  },
  {
   "cell_type": "code",
   "execution_count": 18,
   "id": "4bea4303",
   "metadata": {},
   "outputs": [],
   "source": [
    "transformation_parameters = {'adstock':[round(parameter,1) for parameter in adstock_parameter_range],\n",
    "                             'dim_return':[round(parameter,1) for parameter in dim_return_parameter_range],\n",
    "                             'lag':[int(parameter) for parameter in lag_parameter_range]}\n",
    "transformation_names = [transformation_name for transformation_name in transformation_parameters.keys()]"
   ]
  },
  {
   "cell_type": "code",
   "execution_count": 19,
   "id": "2204b0e5",
   "metadata": {},
   "outputs": [],
   "source": [
    "test_size = 0.2"
   ]
  },
  {
   "cell_type": "markdown",
   "id": "9953d7d1",
   "metadata": {},
   "source": [
    "#### 3) EDA"
   ]
  },
  {
   "cell_type": "code",
   "execution_count": 20,
   "id": "33791209",
   "metadata": {},
   "outputs": [
    {
     "name": "stdout",
     "output_type": "stream",
     "text": [
      "TV\n"
     ]
    },
    {
     "data": {
      "image/png": "[encoded data removed]",
      "text/plain": [
       "<Figure size 288x144 with 1 Axes>"
      ]
     },
     "metadata": {
      "needs_background": "light"
     },
     "output_type": "display_data"
    },
    {
     "name": "stdout",
     "output_type": "stream",
     "text": [
      "Radio\n"
     ]
    },
    {
     "data": {
      "image/png": "[encoded data removed]",
      "text/plain": [
       "<Figure size 288x144 with 1 Axes>"
      ]
     },
     "metadata": {
      "needs_background": "light"
     },
     "output_type": "display_data"
    },
    {
     "name": "stdout",
     "output_type": "stream",
     "text": [
      "Banners\n"
     ]
    },
    {
     "data": {
      "image/png": "[encoded data removed]",
      "text/plain": [
       "<Figure size 288x144 with 1 Axes>"
      ]
     },
     "metadata": {
      "needs_background": "light"
     },
     "output_type": "display_data"
    }
   ],
   "source": [
    "plot_hist(feature_df, bins=25)"
   ]
  },
  {
   "cell_type": "code",
   "execution_count": 21,
   "id": "4a175097",
   "metadata": {},
   "outputs": [
    {
     "data": {
      "image/png": "[encoded data removed]",
      "text/plain": [
       "<Figure size 216x216 with 2 Axes>"
      ]
     },
     "metadata": {
      "needs_background": "light"
     },
     "output_type": "display_data"
    }
   ],
   "source": [
    "plot_corr_vals(pd.concat([feature_df, target_df], axis=1))"
   ]
  },
  {
   "cell_type": "markdown",
   "id": "b60a6971",
   "metadata": {},
   "source": [
    "#### 4) Baseline Linear Model"
   ]
  },
  {
   "cell_type": "code",
   "execution_count": 22,
   "id": "c23f38fc",
   "metadata": {},
   "outputs": [],
   "source": [
    "X_train, X_test, y_train, y_test = create_datasets(feature_df=feature_df, \n",
    "                                                   target_df=target_df, \n",
    "                                                   test_size=test_size)"
   ]
  },
  {
   "cell_type": "code",
   "execution_count": 23,
   "id": "bcc4b811",
   "metadata": {},
   "outputs": [],
   "source": [
    "lr = LinearRegression()"
   ]
  },
  {
   "cell_type": "code",
   "execution_count": 24,
   "id": "340585d4",
   "metadata": {},
   "outputs": [
    {
     "data": {
      "image/png": "[encoded data removed]",
      "text/plain": [
       "<Figure size 432x288 with 1 Axes>"
      ]
     },
     "metadata": {
      "needs_background": "light"
     },
     "output_type": "display_data"
    },
    {
     "name": "stdout",
     "output_type": "stream",
     "text": [
      "                            OLS Regression Results                            \n",
      "==============================================================================\n",
      "Dep. Variable:                  Sales   R-squared:                       0.786\n",
      "Model:                            OLS   Adj. R-squared:                  0.782\n",
      "Method:                 Least Squares   F-statistic:                     191.2\n",
      "Date:                Wed, 07 Jun 2023   Prob (F-statistic):           4.92e-52\n",
      "Time:                        17:46:19   Log-Likelihood:                -1369.7\n",
      "No. Observations:                 160   AIC:                             2747.\n",
      "Df Residuals:                     156   BIC:                             2760.\n",
      "Df Model:                           3                                         \n",
      "Covariance Type:            nonrobust                                         \n",
      "==============================================================================\n",
      "                 coef    std err          t      P>|t|      [0.025      0.975]\n",
      "------------------------------------------------------------------------------\n",
      "const       6650.9970    224.522     29.623      0.000    6207.501    7094.493\n",
      "TV             0.3618      0.022     16.545      0.000       0.319       0.405\n",
      "Radio          0.4861      0.042     11.669      0.000       0.404       0.568\n",
      "Banners        1.2042      0.112     10.748      0.000       0.983       1.425\n",
      "==============================================================================\n",
      "Omnibus:                        9.032   Durbin-Watson:                   1.231\n",
      "Prob(Omnibus):                  0.011   Jarque-Bera (JB):                9.643\n",
      "Skew:                           0.593   Prob(JB):                      0.00805\n",
      "Kurtosis:                       2.798   Cond. No.                     1.29e+04\n",
      "==============================================================================\n",
      "\n",
      "Notes:\n",
      "[1] Standard Errors assume that the covariance matrix of the errors is correctly specified.\n",
      "[2] The condition number is large, 1.29e+04. This might indicate that there are\n",
      "strong multicollinearity or other numerical problems.\n"
     ]
    }
   ],
   "source": [
    "lr = fit_model(model=lr,\n",
    "               X_train=X_train,\n",
    "               y_train=y_train,\n",
    "               X_test=X_test,\n",
    "               y_test=y_test)"
   ]
  },
  {
   "cell_type": "markdown",
   "id": "7e2e1477",
   "metadata": {},
   "source": [
    "#### 5) Optimal Transformation Parameters"
   ]
  },
  {
   "cell_type": "code",
   "execution_count": 25,
   "id": "7471dbc7",
   "metadata": {},
   "outputs": [],
   "source": [
    "parameter_configurations = generate_parameter_combinations(parameters=transformation_parameters)"
   ]
  },
  {
   "cell_type": "code",
   "execution_count": 26,
   "id": "cd40ddb4",
   "metadata": {},
   "outputs": [],
   "source": [
    "input_feature_parameter_grid = {}\n",
    "for feature_name in feature_names:\n",
    "    input_feature_parameter_grid[feature_name] = (transformation_names, parameter_configurations)"
   ]
  },
  {
   "cell_type": "code",
   "execution_count": 27,
   "id": "410181c2",
   "metadata": {},
   "outputs": [],
   "source": [
    "optimal_feature_parameters = get_optimal_feature_parameters(input_feature_parameter_grid=input_feature_parameter_grid,\n",
    "                                                            feature_df=feature_df)"
   ]
  },
  {
   "cell_type": "code",
   "execution_count": 28,
   "id": "08f53aa8",
   "metadata": {},
   "outputs": [
    {
     "data": {
      "text/plain": [
       "{'TV': ((0.4, 0.8, 0), 1735.2923934486782),\n",
       " 'Radio': ((0.5, 1.0, 0), 2412.947910874101),\n",
       " 'Banners': ((0.2, 1.0, 0), 2269.5954377365406)}"
      ]
     },
     "execution_count": 28,
     "metadata": {},
     "output_type": "execute_result"
    }
   ],
   "source": [
    "optimal_feature_parameters"
   ]
  },
  {
   "cell_type": "markdown",
   "id": "1c0ed0f4",
   "metadata": {},
   "source": [
    "#### 6) Optimized Model Results"
   ]
  },
  {
   "cell_type": "code",
   "execution_count": 29,
   "id": "94e6aaeb",
   "metadata": {},
   "outputs": [],
   "source": [
    "optimized_feature_df, optimized_target_df = generate_optimized_training_dataset(feature_df=feature_df,\n",
    "                                                                                target_df=target_df,\n",
    "                                                                                feature_names=feature_names,\n",
    "                                                                                transformation_names=transformation_names,\n",
    "                                                                                optimal_feature_parameters=optimal_feature_parameters)"
   ]
  },
  {
   "cell_type": "code",
   "execution_count": 30,
   "id": "e8af5d0f",
   "metadata": {},
   "outputs": [],
   "source": [
    "X_train, X_test, y_train, y_test = create_datasets(feature_df=optimized_feature_df, \n",
    "                                                   target_df=optimized_target_df, \n",
    "                                                   test_size=test_size)"
   ]
  },
  {
   "cell_type": "code",
   "execution_count": 31,
   "id": "f66fe27d",
   "metadata": {},
   "outputs": [],
   "source": [
    "lr = LinearRegression()"
   ]
  },
  {
   "cell_type": "code",
   "execution_count": 32,
   "id": "4a5bfe39",
   "metadata": {},
   "outputs": [
    {
     "data": {
      "image/png": "[encoded data removed]",
      "text/plain": [
       "<Figure size 432x288 with 1 Axes>"
      ]
     },
     "metadata": {
      "needs_background": "light"
     },
     "output_type": "display_data"
    },
    {
     "name": "stdout",
     "output_type": "stream",
     "text": [
      "                            OLS Regression Results                            \n",
      "==============================================================================\n",
      "Dep. Variable:                  Sales   R-squared:                       0.935\n",
      "Model:                            OLS   Adj. R-squared:                  0.933\n",
      "Method:                 Least Squares   F-statistic:                     742.6\n",
      "Date:                Wed, 07 Jun 2023   Prob (F-statistic):           4.19e-92\n",
      "Time:                        17:46:25   Log-Likelihood:                -1275.0\n",
      "No. Observations:                 160   AIC:                             2558.\n",
      "Df Residuals:                     156   BIC:                             2570.\n",
      "Df Model:                           3                                         \n",
      "Covariance Type:            nonrobust                                         \n",
      "=======================================================================================\n",
      "                          coef    std err          t      P>|t|      [0.025      0.975]\n",
      "---------------------------------------------------------------------------------------\n",
      "const                4434.4389    165.257     26.834      0.000    4108.008    4760.870\n",
      "transformed_TV          2.7238      0.075     36.265      0.000       2.575       2.872\n",
      "transformed_Radio       0.4133      0.020     20.405      0.000       0.373       0.453\n",
      "transformed_Banners     1.1723      0.060     19.599      0.000       1.054       1.290\n",
      "==============================================================================\n",
      "Omnibus:                        0.703   Durbin-Watson:                   1.654\n",
      "Prob(Omnibus):                  0.704   Jarque-Bera (JB):                0.477\n",
      "Skew:                          -0.127   Prob(JB):                        0.788\n",
      "Kurtosis:                       3.087   Cond. No.                     1.60e+04\n",
      "==============================================================================\n",
      "\n",
      "Notes:\n",
      "[1] Standard Errors assume that the covariance matrix of the errors is correctly specified.\n",
      "[2] The condition number is large, 1.6e+04. This might indicate that there are\n",
      "strong multicollinearity or other numerical problems.\n"
     ]
    }
   ],
   "source": [
    "lr = fit_model(model=lr,\n",
    "               X_train=X_train,\n",
    "               y_train=y_train,\n",
    "               X_test=X_test,\n",
    "               y_test=y_test)"
   ]
  }
 ],
 "metadata": {
  "kernelspec": {
   "display_name": "Python 3 (ipykernel)",
   "language": "python",
   "name": "python3"
  },
  "language_info": {
   "codemirror_mode": {
    "name": "ipython",
    "version": 3
   },
   "file_extension": ".py",
   "mimetype": "text/x-python",
   "name": "python",
   "nbconvert_exporter": "python",
   "pygments_lexer": "ipython3",
   "version": "3.9.7"
  }
 },
 "nbformat": 4,
 "nbformat_minor": 5
}
