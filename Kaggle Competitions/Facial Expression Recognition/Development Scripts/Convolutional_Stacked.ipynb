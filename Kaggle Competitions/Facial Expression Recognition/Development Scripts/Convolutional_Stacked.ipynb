{
 "cells": [
  {
   "cell_type": "code",
   "execution_count": null,
   "metadata": {},
   "outputs": [],
   "source": [
    "import numpy as np\n",
    "import seaborn as sns\n",
    "import matplotlib.pyplot as pl\n",
    "import os\n",
    "import pandas as pd\n",
    "import numpy as np\n",
    "import pyarrow as pa\n",
    "import pyarrow.parquet as pq\n",
    "from sklearn.preprocessing import MinMaxScaler\n",
    "from sklearn.metrics import confusion_matrix\n",
    "import tensorflow as tf\n",
    "from tensorflow import keras\n",
    "from tensorflow.keras.callbacks import *\n",
    "from tensorflow.keras import backend as K\n",
    "from tensorflow.keras.preprocessing.image import load_img, img_to_array, array_to_img, ImageDataGenerator\n",
    "from tensorflow.keras.models import Model, Sequential, load_model\n",
    "from tensorflow.keras.applications.resnet_v2 import ResNet50V2\n",
    "from tensorflow.keras.layers import Dense, Input, Dropout, BatchNormalization, Activation, Conv2D, Flatten, MaxPooling2D, AveragePooling2D, LeakyReLU, concatenate\n",
    "from tensorflow.keras.losses import CategoricalCrossentropy\n",
    "from tensorflow import clip_by_value\n",
    "from tensorflow.keras import optimizers\n",
    "from tensorflow.keras.utils import to_categorical\n",
    "import pickle"
   ]
  },
  {
   "cell_type": "code",
   "execution_count": null,
   "metadata": {},
   "outputs": [],
   "source": [
    "train_images = pq.ParquetDataset('C:\\\\Users\\\\rbush\\\\Documents\\\\Projects\\\\Computer Vision\\\\Facial Expressions\\\\Training Data\\\\Images\\\\train_images.parquet').read().to_pandas()\n",
    "test_images = pq.ParquetDataset('C:\\\\Users\\\\rbush\\\\Documents\\\\Projects\\\\Computer Vision\\\\Facial Expressions\\\\Training Data\\\\Images\\\\test_images.parquet').read().to_pandas()\n",
    "val_images = pq.ParquetDataset('C:\\\\Users\\\\rbush\\\\Documents\\\\Projects\\\\Computer Vision\\\\Facial Expressions\\\\Training Data\\\\Images\\\\val_images.parquet').read().to_pandas()"
   ]
  },
  {
   "cell_type": "code",
   "execution_count": null,
   "metadata": {},
   "outputs": [],
   "source": [
    "train_labels = pq.ParquetDataset('C:\\\\Users\\\\rbush\\\\Documents\\\\Projects\\\\Computer Vision\\\\Facial Expressions\\\\Training Data\\\\Labels\\\\train_labels.parquet').read().to_pandas()\n",
    "test_labels = pq.ParquetDataset('C:\\\\Users\\\\rbush\\\\Documents\\\\Projects\\\\Computer Vision\\\\Facial Expressions\\\\Training Data\\\\Labels\\\\test_labels.parquet').read().to_pandas()\n",
    "val_labels = pq.ParquetDataset('C:\\\\Users\\\\rbush\\\\Documents\\\\Projects\\\\Computer Vision\\\\Facial Expressions\\\\Training Data\\\\Labels\\\\val_labels.parquet').read().to_pandas()"
   ]
  },
  {
   "cell_type": "code",
   "execution_count": null,
   "metadata": {},
   "outputs": [],
   "source": [
    "train_images = np.array(train_images).reshape(train_images.shape[0],48,48,1)\n",
    "test_images = np.array(test_images).reshape(test_images.shape[0],48,48,1)\n",
    "val_images = np.array(val_images).reshape(val_images.shape[0],48,48,1)"
   ]
  },
  {
   "cell_type": "code",
   "execution_count": null,
   "metadata": {},
   "outputs": [],
   "source": [
    "cnn_max = Input(shape=(48,48,1))\n",
    "x = Conv2D(100, kernel_size=6, activation=LeakyReLU(alpha=0.05))(cnn_max)\n",
    "x = MaxPooling2D(pool_size=(2,2))(x)\n",
    "x = Conv2D(220, kernel_size=2, activation=LeakyReLU(alpha=0.05))(x)\n",
    "x = MaxPooling2D(pool_size=(2,2))(x)\n",
    "cnn_max_out = Flatten()(x)"
   ]
  },
  {
   "cell_type": "code",
   "execution_count": null,
   "metadata": {},
   "outputs": [],
   "source": [
    "cnn_avg = Input(shape=(48,48,1))\n",
    "x = Conv2D(100, kernel_size=6, activation=LeakyReLU(alpha=0.05))(cnn_avg)\n",
    "x = AveragePooling2D(pool_size=(2,2))(x)\n",
    "x = Conv2D(220, kernel_size=2, activation=LeakyReLU(alpha=0.05))(x)\n",
    "x = AveragePooling2D(pool_size=(2,2))(x)\n",
    "cnn_avg_out = Flatten()(x)"
   ]
  },
  {
   "cell_type": "code",
   "execution_count": null,
   "metadata": {},
   "outputs": [],
   "source": [
    "cnn_concat = concatenate([cnn_max_out, cnn_avg_out])\n",
    "x = Dropout(0.5)(cnn_concat)\n",
    "x = Dense(256, activation='relu')(x)\n",
    "x = Dropout(0.5)(x)\n",
    "x = Dense(128, activation='relu')(x)\n",
    "x = Dropout(0.5)(x)\n",
    "cnn_concat_out = Dense(7, activation='softmax')(x)"
   ]
  },
  {
   "cell_type": "code",
   "execution_count": null,
   "metadata": {},
   "outputs": [],
   "source": [
    "optimizer = optimizers.Adam(learning_rate=0.000075)"
   ]
  },
  {
   "cell_type": "code",
   "execution_count": null,
   "metadata": {},
   "outputs": [],
   "source": [
    "cnn = Model(inputs=[cnn_max, cnn_avg], outputs=cnn_concat_out)"
   ]
  },
  {
   "cell_type": "code",
   "execution_count": null,
   "metadata": {},
   "outputs": [],
   "source": [
    "cnn.compile(optimizer=optimizer, loss='categorical_crossentropy', metrics=['accuracy'])"
   ]
  },
  {
   "cell_type": "code",
   "execution_count": null,
   "metadata": {},
   "outputs": [],
   "source": [
    "cnn_history = cnn.fit([train_images, train_images], train_labels, validation_data=([test_images, test_images], test_labels),\n",
    "                      batch_size=200, epochs=200)"
   ]
  },
  {
   "cell_type": "code",
   "execution_count": null,
   "metadata": {},
   "outputs": [],
   "source": [
    "cnn.save('C:\\\\Users\\\\rbush\\\\Documents\\\\Projects\\\\Computer Vision\\\\Facial Expressions\\\\Models\\\\Convolutional_Stacked\\\\Model.h5')\n",
    "with open('C:\\\\Users\\\\rbush\\\\Documents\\\\Projects\\\\Computer Vision\\\\Facial Expressions\\\\Models\\\\Convolutional_Stacked\\\\Training History.pkl','wb') as outfile:\n",
    "    pickle.dump(cnn_history.history, outfile)"
   ]
  },
  {
   "cell_type": "code",
   "execution_count": null,
   "metadata": {},
   "outputs": [],
   "source": [
    "cnn_predicted_categories = np.argmax(cnn.predict([val_images, val_images]), axis=1)"
   ]
  },
  {
   "cell_type": "code",
   "execution_count": null,
   "metadata": {},
   "outputs": [],
   "source": [
    "val_labels = np.argmax(np.array(val_labels), axis=1)"
   ]
  },
  {
   "cell_type": "code",
   "execution_count": null,
   "metadata": {},
   "outputs": [],
   "source": [
    "cnn_cm = confusion_matrix(cnn_predicted_categories, val_labels, labels=[0,1,2,3,4,5,6])"
   ]
  },
  {
   "cell_type": "code",
   "execution_count": null,
   "metadata": {},
   "outputs": [],
   "source": [
    "cnn_cm"
   ]
  },
  {
   "cell_type": "code",
   "execution_count": null,
   "metadata": {},
   "outputs": [],
   "source": [
    "cnn_accuracy = (cnn_cm[0,0]+cnn_cm[1,1]+cnn_cm[2,2]+cnn_cm[3,3]+cnn_cm[4,4]+cnn_cm[5,5]+cnn_cm[6,6])/np.sum(cnn_cm)\n",
    "print(f'Conv-Net Accuracy: {round(100*cnn_accuracy,1)}%')"
   ]
  },
  {
   "cell_type": "code",
   "execution_count": null,
   "metadata": {},
   "outputs": [],
   "source": []
  }
 ],
 "metadata": {
  "kernelspec": {
   "display_name": "Python 3",
   "language": "python",
   "name": "python3"
  },
  "language_info": {
   "codemirror_mode": {
    "name": "ipython",
    "version": 3
   },
   "file_extension": ".py",
   "mimetype": "text/x-python",
   "name": "python",
   "nbconvert_exporter": "python",
   "pygments_lexer": "ipython3",
   "version": "3.7.6"
  }
 },
 "nbformat": 4,
 "nbformat_minor": 4
}
